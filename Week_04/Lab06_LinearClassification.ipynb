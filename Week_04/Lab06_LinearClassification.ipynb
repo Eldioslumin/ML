{
  "cells": [
    {
      "cell_type": "markdown",
      "metadata": {
        "id": "4i0ChBBhxF0K"
      },
      "source": [
        "# Linear Classification\n",
        "\n",
        "In this lab you will implement parts of a linear classification model using the regularized empirical risk minimization principle. By completing this lab and analysing the code, you gain deeper understanding of these type of models, and of gradient descent.\n",
        "\n",
        "\n",
        "## Problem Setting\n",
        "\n",
        "The dataset describes diagnosing of cardiac Single Proton Emission Computed Tomography (SPECT) images. Each of the patients is classified into two categories: normal (1) and abnormal (0). The training data contains 80 SPECT images from which 22 binary features have been extracted. The goal is to predict the label for an unseen test set of 187 tomography images."
      ]
    },
    {
      "cell_type": "code",
      "execution_count": 2,
      "metadata": {
        "id": "qSGEB3UkxF0L",
        "scrolled": true
      },
      "outputs": [],
      "source": [
        "import urllib.request\n",
        "import pandas as pd\n",
        "import numpy as np\n",
        "# for auto-reloading external modules\n",
        "# see http://stackoverflow.com/questions/1907993/autoreload-of-modules-in-ipython\n",
        "%load_ext autoreload\n",
        "%autoreload 2\n",
        "\n",
        "testfile = urllib.request.URLopener()\n",
        "testfile.retrieve(\"http://archive.ics.uci.edu/ml/machine-learning-databases/spect/SPECT.train\", \"SPECT.train\")\n",
        "testfile.retrieve(\"http://archive.ics.uci.edu/ml/machine-learning-databases/spect/SPECT.test\", \"SPECT.test\")\n",
        "\n",
        "df_train = pd.read_csv('SPECT.train',header=None)\n",
        "df_test = pd.read_csv('SPECT.test',header=None)\n",
        "\n",
        "train = df_train.values\n",
        "test = df_test.values\n",
        "\n",
        "y_train = train[:,0]\n",
        "X_train = train[:,1:]\n",
        "y_test = test[:,0]\n",
        "X_test = test[:,1:]\n",
        "\n",
        "np.random.seed(404)\n",
        "\n"
      ]
    },
    {
      "cell_type": "code",
      "execution_count": 3,
      "metadata": {},
      "outputs": [],
      "source": [
        "#First I'd like to understand my data and the problem at hand.\n",
        "#We got a very small data set with only 87 examples.\n",
        "# All features are binary, and so is our target feature, normal or abnormal tomography.\n",
        "# Since we have our target feature in our data as a label, we are talking about supervised learning.\n",
        "# And since we only have two classes, we are in a binary classification situation.\n",
        "\n"
      ]
    },
    {
      "cell_type": "markdown",
      "metadata": {
        "id": "DBPhAtmexF0N"
      },
      "source": [
        "### Exercise 1\n",
        "\n",
        "Analyze the function learn_reg_ERM(X,y,lambda) which for a given $n\\times m$ data matrix $\\textbf{X}$ and binary class label $\\textbf{y}$ learns and returns a linear model $\\textbf{w}$.\n",
        "The binary class label has to be transformed so that its range is $\\left \\{-1,1 \\right \\}$. \n",
        "The trade-off parameter between the empirical loss and the regularizer is given by $\\lambda > 0$. \n",
        "To adapt the learning rate the Barzilai-Borwein method is used.\n",
        "\n",
        "Try to understand each step of the learning algorithm and comment each line.\n"
      ]
    },
    {
      "cell_type": "code",
      "execution_count": 4,
      "metadata": {
        "id": "1-HgTxIQxF0N"
      },
      "outputs": [],
      "source": [
        "\n",
        "np.random.seed(404)\n",
        "\n",
        "def learn_reg_ERM(X,y,lbda):\n",
        "    \n",
        "    #So we get our data matrix as X, our labels as y, and our lambda value.\n",
        "    max_iter = 200 # Max iterations would be the epochs in NLP, how many optimization runs I do.\n",
        "    e  = 0.001 # e would be epsilon, our the treshhold when we assume our model is not learning any new information.\n",
        "    alpha = 1. #Alphajor. Learning rate, our by how much we need to update our model for optimization.\n",
        "\n",
        "    w = np.random.randn(X.shape[1]);\n",
        "    # So we've created a linear model that currently holds random values for all the features in our training data.\n",
        "    for k in np.arange(max_iter): #simply an array that holds values from \"0\" to \"max_iter\" to perform optimization.\n",
        "\n",
        "        h = np.dot(X,w) # This \"h\" is a dot multiplication of our features by our random model, or performed linear transformation if we want to be all nerdy about it. \n",
        "        l,lg = loss(h, y) # by using these new matrix h, we can already calculate loss and the loss gradient (how close are our initial predictions). (Cross entropy loss I suppose?)\n",
        "        # print ('loss: {}'.format(np.mean(l))) #and then we simply find the mean of the loss across all different training examples.\n",
        "        r,rg = reg(w, lbda) #I hate regularizers, me and my homies hate regularizers. It's just the bias from NLP with its ML name, so it's supposed to help the model do better predictions and avoid overfittin? right?.\n",
        "        g = np.dot(X.T,lg) + rg # We take the gradients of the loss and multiply it by a transposed X, then we add the gradient of our regularizer. All of this to update our weights. g gives us a total gradient, which will allow us to later update our model w\n",
        "        if (k > 0):# So for every iteration except the first one. \n",
        "            alpha = alpha * (np.dot(g_old.T,g_old))/(np.dot((g_old - g).T,g_old)) \n",
        "            # boi, so our learning rate is created by \n",
        "            # using itself times:\n",
        "            #   the dot product of our previous gradient descent times itself \n",
        "            #   divided by:\n",
        "            #       our the dot product of our previous gradient descent times \n",
        "            #       the previous gradient descent minus our current gradent descent (transposed).\n",
        "            # This means our learning rate is dynamically generated.\n",
        "            # Barzilai-Borwein method (research this, what alternatives are there?)\n",
        "            \n",
        "            \n",
        "        w = w - alpha * g\n",
        "        # And so, we multiply our learning rate by our gradient, and rest that amount from our model\n",
        "        if (np.linalg.norm(alpha * g) < e):\n",
        "            #If we are below our epsilon, we are free. The machine will learn no more.\n",
        "            break\n",
        "        g_old = g\n",
        "    return w\n",
        "\n"
      ]
    },
    {
      "cell_type": "markdown",
      "metadata": {
        "id": "l1CmQjDhxF0O"
      },
      "source": [
        "### Exercise 2\n",
        "\n",
        "Fill in the code for the function loss(h,y) which computes the hinge loss and its gradient. \n",
        "This function takes a given vector $\\textbf{y}$ with the true labels $\\in \\left \\{-1,1\\right \\}$ and a vector $\\textbf{h}$ with the function values of the linear model as inputs. The function returns a vector $\\textbf{l}$ with the hinge loss $\\max(0, 1 − y_{i} h_{i})$ and a vector $\\textbf{g}$ with the gradients of the hinge loss w.r.t $\\textbf{h}$. (Note: The partial derivative of the hinge loss with respect to $\\textbf{h}$  is $g_{i} = −y $ if $l_{i} > 0$, else $g_{i} = 0$)"
      ]
    },
    {
      "cell_type": "markdown",
      "metadata": {},
      "source": []
    },
    {
      "cell_type": "code",
      "execution_count": 5,
      "metadata": {
        "id": "Vct3IsAYxF0O"
      },
      "outputs": [],
      "source": [
        "def loss(h, y):\n",
        "    #L(y,f(x))= max(0,1−y∗f(x)) Hinge loss formula\n",
        "    #################\n",
        "    \n",
        "    l = np.maximum(0,1 - y * h)\n",
        "\n",
        "    g = np.zeros(l.shape)\n",
        "    g[l > 0] = -y[l > 0]\n",
        "    ##################\n",
        "    \n",
        "    return l, g"
      ]
    },
    {
      "cell_type": "markdown",
      "metadata": {
        "id": "OmdwcNAaxF0P"
      },
      "source": [
        "### Exercise 3\n",
        "\n",
        "Fill in the code for the function reg(w,lambda) which computes the $\\mathcal{L}_2$-regularizer and the gradient of the regularizer function at point $\\textbf{w}$. \n",
        "\n",
        "\n",
        "$$r = \\frac{\\lambda}{2} \\textbf{w}^{T}\\textbf{w}$$\n",
        "\n",
        "$$g = \\lambda \\textbf{w}$$"
      ]
    },
    {
      "cell_type": "code",
      "execution_count": 6,
      "metadata": {
        "id": "CEsrqBTfxF0P"
      },
      "outputs": [],
      "source": [
        "def reg(w, lbda):\n",
        "    \n",
        "    r = (lbda / 2) * np.dot(w.T, w)\n",
        "    g = lbda * w\n",
        "    return r, g\n"
      ]
    },
    {
      "cell_type": "markdown",
      "metadata": {
        "id": "HXlyhFPmxF0Q"
      },
      "source": [
        "### Exercise 4\n",
        "\n",
        "Fill in the code for the function predict(w,x) which predicts the class label $y$ for a data point $\\textbf{x}$ or a matrix $X$ of data points (row-wise) for a previously trained linear model $\\textbf{w}$. If there is only a data point given, the function is supposed to return a scalar value. If a matrix is given a vector of predictions is supposed to be returned."
      ]
    },
    {
      "cell_type": "code",
      "execution_count": 7,
      "metadata": {
        "id": "bnKXor1NxF0Q"
      },
      "outputs": [],
      "source": [
        "def predict(w, X):\n",
        "    preds = np.sign(np.dot(X, w))\n",
        "    return preds"
      ]
    },
    {
      "cell_type": "markdown",
      "metadata": {
        "id": "ltgVMtXIxF0R"
      },
      "source": [
        "### Exercise 5\n",
        "\n",
        "#### 5.1 \n",
        "Train a linear model on the training data and classify all 187 test instances afterwards using the function predict. \n",
        "Please note that the given class labels are in the range $\\left \\{0,1 \\right \\}$, however the learning algorithm expects a label in the range of $\\left \\{-1,1 \\right \\}$. Then, compute the accuracy of your trained linear model on both the training and the test data. "
      ]
    },
    {
      "cell_type": "code",
      "execution_count": 8,
      "metadata": {
        "id": "LqdCXWWYxF0R"
      },
      "outputs": [
        {
          "name": "stdout",
          "output_type": "stream",
          "text": [
            "0.6898395721925134\n"
          ]
        }
      ],
      "source": [
        "##################\n",
        "y_train[y_train == 0] = -1\n",
        "y_test[y_test == 0] = -1\n",
        "\n",
        "w = learn_reg_ERM(X_train, y_train, 0.1)\n",
        "y_hat = predict(w, X_test)\n",
        "accuracy = np.mean(y_test == y_hat)\n",
        "print(accuracy)\n",
        "##################"
      ]
    },
    {
      "cell_type": "markdown",
      "metadata": {
        "id": "IFdpQNg3xF0S"
      },
      "source": [
        "#### 5.2\n",
        "Compare the accuracy of the linear model with the accuracy of a random forest and a decision tree on the training and test data set."
      ]
    },
    {
      "cell_type": "code",
      "execution_count": 9,
      "metadata": {},
      "outputs": [],
      "source": [
        "\n",
        "from sklearn.tree import DecisionTreeClassifier\n",
        "from sklearn.ensemble import RandomForestClassifier\n",
        "from skopt import BayesSearchCV\n",
        "from sklearn.model_selection import cross_val_score"
      ]
    },
    {
      "cell_type": "code",
      "execution_count": 10,
      "metadata": {
        "id": "l_u_jEmXxF0T"
      },
      "outputs": [
        {
          "name": "stdout",
          "output_type": "stream",
          "text": [
            "Best parameters: OrderedDict({'max_depth': 50, 'max_features': 0.8010471965418119, 'min_samples_leaf': 1, 'min_samples_split': 20})\n",
            "Best score: 0.7875\n",
            "Training Accuracy: 0.9375\n",
            "Test Accuracy: 0.7754\n"
          ]
        }
      ],
      "source": [
        "##################\n",
        "#INSERT CODE HERE#\n",
        "\n",
        "clf_tree = DecisionTreeClassifier(criterion='entropy')\n",
        "\n",
        "search_space = {\n",
        "    'max_depth': (1, 50),                        \n",
        "    'min_samples_split': (2, 20),                 \n",
        "    'min_samples_leaf': (1, 20),                  \n",
        "    'max_features': (0.1, 1.0, 'uniform'),      \n",
        "}\n",
        "\n",
        "opt = BayesSearchCV(\n",
        "    clf_tree,\n",
        "    search_spaces=search_space,\n",
        "    n_iter=32,                \n",
        "    scoring='accuracy',       \n",
        "    cv=5, # cv=5 means each combination is tested with 5‑fold cross‑validation (done in parallel via n_jobs=-1).         \n",
        "    random_state=42,\n",
        "    n_jobs=-1                 \n",
        ")\n",
        "\n",
        "opt.fit(X_train, y_train)\n",
        "print(\"Best parameters:\", opt.best_params_)\n",
        "print(\"Best score:\", opt.best_score_)\n",
        "\n",
        "##################\n",
        "\n",
        "clf = RandomForestClassifier()\n",
        "clf.fit(X_train, y_train)\n",
        "\n",
        "train_accuracy = clf.score(X_train, y_train)\n",
        "test_accuracy = clf.score(X_test, y_test)\n",
        "\n",
        "print(f\"Training Accuracy: {train_accuracy:.4f}\")\n",
        "print(f\"Test Accuracy: {test_accuracy:.4f}\")"
      ]
    }
  ],
  "metadata": {
    "colab": {
      "name": "Lab06_LinearClassification.ipynb",
      "provenance": []
    },
    "kernelspec": {
      "display_name": ".venv",
      "language": "python",
      "name": "python3"
    },
    "language_info": {
      "codemirror_mode": {
        "name": "ipython",
        "version": 3
      },
      "file_extension": ".py",
      "mimetype": "text/x-python",
      "name": "python",
      "nbconvert_exporter": "python",
      "pygments_lexer": "ipython3",
      "version": "3.13.3"
    }
  },
  "nbformat": 4,
  "nbformat_minor": 0
}
