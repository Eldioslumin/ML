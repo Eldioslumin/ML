{
  "cells": [
    {
      "cell_type": "markdown",
      "metadata": {
        "id": "lY6Srt5R1li0"
      },
      "source": [
        "# Linear Regression\n",
        "\n",
        "In this tutorial we will implement a linear regression model. We will also implement a function that splits the available data into a training and a testing part.\n",
        "\n",
        "## Problem Setting\n",
        "\n",
        "We will use the Boston Housing Dataset. This dataset contains information collected by the U.S Census Service concerning housing in the city of Boston in the state of Massachusetts in 1978. Our goal is to predict the median value of the houses in a particular town in the city of Boston given its attributes. Check the file ’housing_features_description.txt’ for more information on the attributes."
      ]
    },
    {
      "cell_type": "code",
      "execution_count": null,
      "metadata": {
        "id": "kHxSLZ7w1li1",
        "scrolled": true
      },
      "outputs": [
        {
          "name": "stderr",
          "output_type": "stream",
          "text": [
            "<>:14: SyntaxWarning: invalid escape sequence '\\s'\n",
            "<>:14: SyntaxWarning: invalid escape sequence '\\s'\n",
            "C:\\Users\\juand\\AppData\\Local\\Temp\\ipykernel_3092\\4038728560.py:14: SyntaxWarning: invalid escape sequence '\\s'\n",
            "  raw_df = pd.read_csv(data_url, sep=\"\\s+\", skiprows=22, header=None)\n"
          ]
        },
        {
          "name": "stdout",
          "output_type": "stream",
          "text": [
            "The autoreload extension is already loaded. To reload it, use:\n",
            "  %reload_ext autoreload\n"
          ]
        },
        {
          "data": {
            "text/html": [
              "<div>\n",
              "<style scoped>\n",
              "    .dataframe tbody tr th:only-of-type {\n",
              "        vertical-align: middle;\n",
              "    }\n",
              "\n",
              "    .dataframe tbody tr th {\n",
              "        vertical-align: top;\n",
              "    }\n",
              "\n",
              "    .dataframe thead th {\n",
              "        text-align: right;\n",
              "    }\n",
              "</style>\n",
              "<table border=\"1\" class=\"dataframe\">\n",
              "  <thead>\n",
              "    <tr style=\"text-align: right;\">\n",
              "      <th></th>\n",
              "      <th>crime_rate</th>\n",
              "      <th>res_land_zoned</th>\n",
              "      <th>industry</th>\n",
              "      <th>charles_river</th>\n",
              "      <th>nox</th>\n",
              "      <th>avg_num_rooms</th>\n",
              "      <th>prop_bf_1940</th>\n",
              "      <th>dst_emply_center</th>\n",
              "      <th>rd_highway_idx</th>\n",
              "      <th>tax_rate</th>\n",
              "      <th>stdnt_tchr_ratio</th>\n",
              "      <th>prop_blacks</th>\n",
              "      <th>low_status_pct</th>\n",
              "    </tr>\n",
              "  </thead>\n",
              "  <tbody>\n",
              "    <tr>\n",
              "      <th>0</th>\n",
              "      <td>0.00632</td>\n",
              "      <td>18.0</td>\n",
              "      <td>2.31</td>\n",
              "      <td>0.0</td>\n",
              "      <td>0.538</td>\n",
              "      <td>6.575</td>\n",
              "      <td>65.2</td>\n",
              "      <td>4.0900</td>\n",
              "      <td>1.0</td>\n",
              "      <td>296.0</td>\n",
              "      <td>15.3</td>\n",
              "      <td>396.90</td>\n",
              "      <td>4.98</td>\n",
              "    </tr>\n",
              "    <tr>\n",
              "      <th>1</th>\n",
              "      <td>0.02731</td>\n",
              "      <td>0.0</td>\n",
              "      <td>7.07</td>\n",
              "      <td>0.0</td>\n",
              "      <td>0.469</td>\n",
              "      <td>6.421</td>\n",
              "      <td>78.9</td>\n",
              "      <td>4.9671</td>\n",
              "      <td>2.0</td>\n",
              "      <td>242.0</td>\n",
              "      <td>17.8</td>\n",
              "      <td>396.90</td>\n",
              "      <td>9.14</td>\n",
              "    </tr>\n",
              "    <tr>\n",
              "      <th>2</th>\n",
              "      <td>0.02729</td>\n",
              "      <td>0.0</td>\n",
              "      <td>7.07</td>\n",
              "      <td>0.0</td>\n",
              "      <td>0.469</td>\n",
              "      <td>7.185</td>\n",
              "      <td>61.1</td>\n",
              "      <td>4.9671</td>\n",
              "      <td>2.0</td>\n",
              "      <td>242.0</td>\n",
              "      <td>17.8</td>\n",
              "      <td>392.83</td>\n",
              "      <td>4.03</td>\n",
              "    </tr>\n",
              "    <tr>\n",
              "      <th>3</th>\n",
              "      <td>0.03237</td>\n",
              "      <td>0.0</td>\n",
              "      <td>2.18</td>\n",
              "      <td>0.0</td>\n",
              "      <td>0.458</td>\n",
              "      <td>6.998</td>\n",
              "      <td>45.8</td>\n",
              "      <td>6.0622</td>\n",
              "      <td>3.0</td>\n",
              "      <td>222.0</td>\n",
              "      <td>18.7</td>\n",
              "      <td>394.63</td>\n",
              "      <td>2.94</td>\n",
              "    </tr>\n",
              "    <tr>\n",
              "      <th>4</th>\n",
              "      <td>0.06905</td>\n",
              "      <td>0.0</td>\n",
              "      <td>2.18</td>\n",
              "      <td>0.0</td>\n",
              "      <td>0.458</td>\n",
              "      <td>7.147</td>\n",
              "      <td>54.2</td>\n",
              "      <td>6.0622</td>\n",
              "      <td>3.0</td>\n",
              "      <td>222.0</td>\n",
              "      <td>18.7</td>\n",
              "      <td>396.90</td>\n",
              "      <td>5.33</td>\n",
              "    </tr>\n",
              "    <tr>\n",
              "      <th>...</th>\n",
              "      <td>...</td>\n",
              "      <td>...</td>\n",
              "      <td>...</td>\n",
              "      <td>...</td>\n",
              "      <td>...</td>\n",
              "      <td>...</td>\n",
              "      <td>...</td>\n",
              "      <td>...</td>\n",
              "      <td>...</td>\n",
              "      <td>...</td>\n",
              "      <td>...</td>\n",
              "      <td>...</td>\n",
              "      <td>...</td>\n",
              "    </tr>\n",
              "    <tr>\n",
              "      <th>501</th>\n",
              "      <td>0.06263</td>\n",
              "      <td>0.0</td>\n",
              "      <td>11.93</td>\n",
              "      <td>0.0</td>\n",
              "      <td>0.573</td>\n",
              "      <td>6.593</td>\n",
              "      <td>69.1</td>\n",
              "      <td>2.4786</td>\n",
              "      <td>1.0</td>\n",
              "      <td>273.0</td>\n",
              "      <td>21.0</td>\n",
              "      <td>391.99</td>\n",
              "      <td>9.67</td>\n",
              "    </tr>\n",
              "    <tr>\n",
              "      <th>502</th>\n",
              "      <td>0.04527</td>\n",
              "      <td>0.0</td>\n",
              "      <td>11.93</td>\n",
              "      <td>0.0</td>\n",
              "      <td>0.573</td>\n",
              "      <td>6.120</td>\n",
              "      <td>76.7</td>\n",
              "      <td>2.2875</td>\n",
              "      <td>1.0</td>\n",
              "      <td>273.0</td>\n",
              "      <td>21.0</td>\n",
              "      <td>396.90</td>\n",
              "      <td>9.08</td>\n",
              "    </tr>\n",
              "    <tr>\n",
              "      <th>503</th>\n",
              "      <td>0.06076</td>\n",
              "      <td>0.0</td>\n",
              "      <td>11.93</td>\n",
              "      <td>0.0</td>\n",
              "      <td>0.573</td>\n",
              "      <td>6.976</td>\n",
              "      <td>91.0</td>\n",
              "      <td>2.1675</td>\n",
              "      <td>1.0</td>\n",
              "      <td>273.0</td>\n",
              "      <td>21.0</td>\n",
              "      <td>396.90</td>\n",
              "      <td>5.64</td>\n",
              "    </tr>\n",
              "    <tr>\n",
              "      <th>504</th>\n",
              "      <td>0.10959</td>\n",
              "      <td>0.0</td>\n",
              "      <td>11.93</td>\n",
              "      <td>0.0</td>\n",
              "      <td>0.573</td>\n",
              "      <td>6.794</td>\n",
              "      <td>89.3</td>\n",
              "      <td>2.3889</td>\n",
              "      <td>1.0</td>\n",
              "      <td>273.0</td>\n",
              "      <td>21.0</td>\n",
              "      <td>393.45</td>\n",
              "      <td>6.48</td>\n",
              "    </tr>\n",
              "    <tr>\n",
              "      <th>505</th>\n",
              "      <td>0.04741</td>\n",
              "      <td>0.0</td>\n",
              "      <td>11.93</td>\n",
              "      <td>0.0</td>\n",
              "      <td>0.573</td>\n",
              "      <td>6.030</td>\n",
              "      <td>80.8</td>\n",
              "      <td>2.5050</td>\n",
              "      <td>1.0</td>\n",
              "      <td>273.0</td>\n",
              "      <td>21.0</td>\n",
              "      <td>396.90</td>\n",
              "      <td>7.88</td>\n",
              "    </tr>\n",
              "  </tbody>\n",
              "</table>\n",
              "<p>506 rows × 13 columns</p>\n",
              "</div>"
            ],
            "text/plain": [
              "     crime_rate  res_land_zoned  industry  charles_river    nox  \\\n",
              "0       0.00632            18.0      2.31            0.0  0.538   \n",
              "1       0.02731             0.0      7.07            0.0  0.469   \n",
              "2       0.02729             0.0      7.07            0.0  0.469   \n",
              "3       0.03237             0.0      2.18            0.0  0.458   \n",
              "4       0.06905             0.0      2.18            0.0  0.458   \n",
              "..          ...             ...       ...            ...    ...   \n",
              "501     0.06263             0.0     11.93            0.0  0.573   \n",
              "502     0.04527             0.0     11.93            0.0  0.573   \n",
              "503     0.06076             0.0     11.93            0.0  0.573   \n",
              "504     0.10959             0.0     11.93            0.0  0.573   \n",
              "505     0.04741             0.0     11.93            0.0  0.573   \n",
              "\n",
              "     avg_num_rooms  prop_bf_1940  dst_emply_center  rd_highway_idx  tax_rate  \\\n",
              "0            6.575          65.2            4.0900             1.0     296.0   \n",
              "1            6.421          78.9            4.9671             2.0     242.0   \n",
              "2            7.185          61.1            4.9671             2.0     242.0   \n",
              "3            6.998          45.8            6.0622             3.0     222.0   \n",
              "4            7.147          54.2            6.0622             3.0     222.0   \n",
              "..             ...           ...               ...             ...       ...   \n",
              "501          6.593          69.1            2.4786             1.0     273.0   \n",
              "502          6.120          76.7            2.2875             1.0     273.0   \n",
              "503          6.976          91.0            2.1675             1.0     273.0   \n",
              "504          6.794          89.3            2.3889             1.0     273.0   \n",
              "505          6.030          80.8            2.5050             1.0     273.0   \n",
              "\n",
              "     stdnt_tchr_ratio  prop_blacks  low_status_pct  \n",
              "0                15.3       396.90            4.98  \n",
              "1                17.8       396.90            9.14  \n",
              "2                17.8       392.83            4.03  \n",
              "3                18.7       394.63            2.94  \n",
              "4                18.7       396.90            5.33  \n",
              "..                ...          ...             ...  \n",
              "501              21.0       391.99            9.67  \n",
              "502              21.0       396.90            9.08  \n",
              "503              21.0       396.90            5.64  \n",
              "504              21.0       393.45            6.48  \n",
              "505              21.0       396.90            7.88  \n",
              "\n",
              "[506 rows x 13 columns]"
            ]
          },
          "execution_count": 31,
          "metadata": {},
          "output_type": "execute_result"
        }
      ],
      "source": [
        "import urllib\n",
        "import pandas as pd\n",
        "import numpy as np\n",
        "# for auto-reloading external modules\n",
        "# see http://stackoverflow.com/questions/1907993/autoreload-of-modules-in-ipython\n",
        "%load_ext autoreload\n",
        "%autoreload 2\n",
        "\n",
        "### NOTE: The boston dataset has an ethical problem. More on this can e.g. be found in the scikit documentation. ###\n",
        "### Summary: The dataset contains the proportion of black people, which was assumed that racial self-segregation had a positive impact on house prices. ###\n",
        "\n",
        "\n",
        "data_url = \"http://lib.stat.cmu.edu/datasets/boston\"\n",
        "raw_df = pd.read_csv(data_url, sep=\"\\s+\", skiprows=22, header=None)\n",
        "boston_data = np.hstack([raw_df.values[::2, :], raw_df.values[1::2, :2]])\n",
        "boston_target = raw_df.values[1::2, 2]\n",
        "\n",
        "df=pd.DataFrame(boston_data)\n",
        "df.columns=['crime_rate','res_land_zoned','industry','charles_river','nox','avg_num_rooms','prop_bf_1940','dst_emply_center','rd_highway_idx','tax_rate','stdnt_tchr_ratio','prop_blacks','low_status_pct']\n",
        "X=boston_data\n",
        "y=boston_target\n",
        "\n",
        "# Our goal is to predict the median value of the houses in a particular town in the city of Boston given its attributes. "
      ]
    },
    {
      "cell_type": "code",
      "execution_count": null,
      "metadata": {
        "id": "BkyIMHZN1li3"
      },
      "outputs": [
        {
          "name": "stdout",
          "output_type": "stream",
          "text": [
            "                     mean      std   median\n",
            "crime_rate          3.614    8.602    0.257\n",
            "res_land_zoned     11.364   23.322    0.000\n",
            "industry           11.137    6.860    9.690\n",
            "charles_river       0.069    0.254    0.000\n",
            "nox                 0.555    0.116    0.538\n",
            "avg_num_rooms       6.285    0.703    6.208\n",
            "prop_bf_1940       68.575   28.149   77.500\n",
            "dst_emply_center    3.795    2.106    3.207\n",
            "rd_highway_idx      9.549    8.707    5.000\n",
            "tax_rate          408.237  168.537  330.000\n",
            "stdnt_tchr_ratio   18.456    2.165   19.050\n",
            "prop_blacks       356.674   91.295  391.440\n",
            "low_status_pct     12.653    7.141   11.360\n",
            "<class 'pandas.core.frame.DataFrame'>\n",
            "RangeIndex: 506 entries, 0 to 505\n",
            "Data columns (total 13 columns):\n",
            " #   Column            Non-Null Count  Dtype  \n",
            "---  ------            --------------  -----  \n",
            " 0   crime_rate        506 non-null    float64\n",
            " 1   res_land_zoned    506 non-null    float64\n",
            " 2   industry          506 non-null    float64\n",
            " 3   charles_river     506 non-null    float64\n",
            " 4   nox               506 non-null    float64\n",
            " 5   avg_num_rooms     506 non-null    float64\n",
            " 6   prop_bf_1940      506 non-null    float64\n",
            " 7   dst_emply_center  506 non-null    float64\n",
            " 8   rd_highway_idx    506 non-null    float64\n",
            " 9   tax_rate          506 non-null    float64\n",
            " 10  stdnt_tchr_ratio  506 non-null    float64\n",
            " 11  prop_blacks       506 non-null    float64\n",
            " 12  low_status_pct    506 non-null    float64\n",
            "dtypes: float64(13)\n",
            "memory usage: 51.5 KB\n"
          ]
        }
      ],
      "source": [
        "df.head(10)\n",
        "summary = pd.DataFrame({\n",
        "    'mean': df.mean(),\n",
        "    'std':  df.std(),\n",
        "    'median': df.median()\n",
        "}).round(3)\n",
        "print(summary)\n",
        "df.info()\n",
        "\n",
        "# We need to make sure all our data is there, and also check any meaningful information (what ranges are we working with and such)\n",
        "\n",
        "#  Variables in order:\n",
        "#  CRIM     per capita crime rate by town\n",
        "#  ZN       proportion of residential land zoned for lots over 25,000 sq.ft.\n",
        "#  INDUS    proportion of non-retail business acres per town\n",
        "#  CHAS     Charles River dummy variable (= 1 if tract bounds river; 0 otherwise)\n",
        "#  NOX      nitric oxides concentration (parts per 10 million)\n",
        "#  RM       average number of rooms per dwelling\n",
        "#  AGE      proportion of owner-occupied units built prior to 1940\n",
        "#  DIS      weighted distances to five Boston employment centres\n",
        "#  RAD      index of accessibility to radial highways\n",
        "#  TAX      full-value property-tax rate per $10,000\n",
        "#  PTRATIO  pupil-teacher ratio by town\n",
        "#  B        1000(Bk - 0.63)^2 where Bk is the proportion of blacks by town\n",
        "#  LSTAT    % lower status of the population\n",
        "#  MEDV     Median value of owner-occupied homes in $1000's"
      ]
    },
    {
      "cell_type": "markdown",
      "metadata": {
        "id": "a2pPZJYnLNVj"
      },
      "source": [
        "# Note 1:\n",
        "\n",
        "Think about the ethical aspects of this dataset and machine learning in general. \n",
        "\n",
        "Can you always trust your data source? Can we use every possible information for our models?\n",
        "\n"
      ]
    },
    {
      "cell_type": "code",
      "execution_count": null,
      "metadata": {},
      "outputs": [],
      "source": [
        "# Data sources will always have some kind of bias, especially when it comes to social sciences. \n",
        "# Thinking about how data is obtained and by who is always important to understand the inherent biases and also avoid falling in the same logic flaws."
      ]
    },
    {
      "cell_type": "markdown",
      "metadata": {
        "id": "VJG66FPb1li3"
      },
      "source": [
        "### Exercise 1\n",
        "\n",
        "Write the *split_train_test(X,y,split,seed)*, given an instance matrix $X \\in \\mathbb{R}^{N \\times D}$, labels $y \\in Y^N$, a split ratio in $[0, 1]$ and a random seed $\\in \\mathbb{Z}$. Split the dataset in $(split×100)\\%$ of the instances for training our model and the rest for testing, i.e. \n",
        "\n",
        "$$ \\left|X_{\\text{train}}\\right| = \\lceil \\text{split} \\cdot N \\rceil, \\qquad |X_{\\text{train}}| + |X_{\\text{test}}| = N. $$\n",
        "Make sure you use the given random number generator seed so we all get the same results. The function is supposed to return:\n",
        "\n",
        "- X_train, y_train: the training instances and labels;\n",
        "- X_test, y_test: the test instances and labels,\n",
        "\n",
        "in the same order as was mentioned.\n",
        "\n",
        "Hint: It may be helpful to use shuffling functionality (e.g. np.random.shuffle)."
      ]
    },
    {
      "cell_type": "code",
      "execution_count": null,
      "metadata": {
        "id": "eZ2by_fO1li4"
      },
      "outputs": [
        {
          "name": "stdout",
          "output_type": "stream",
          "text": [
            "101\n",
            "405 405\n",
            "hi\n"
          ]
        }
      ],
      "source": [
        "\n",
        "\n",
        "def split_train_test(X,y,split,seed):\n",
        "    ##################\n",
        "    np.random.seed(seed)\n",
        "    \n",
        "    N = len(X)\n",
        "    index = np.arange(N)\n",
        "    np.random.shuffle(index)\n",
        "    \n",
        "    train_examples = int((split / 100) * N)\n",
        "    test_examples = N - train_examples\n",
        "    \n",
        "    train_index = index[:train_examples]\n",
        "    test_index = index[-test_examples:]\n",
        "    \n",
        "    X_train, y_train = X[train_index], y[train_index]\n",
        "    X_test, y_test = X[test_index],y[test_index]\n",
        "    print(len(X_train))\n",
        "    print(len(X_test), test_examples)\n",
        "    #INSERT CODE HERE#\n",
        "    ##################\n",
        "    return X_train, y_train, X_test, y_test\n",
        "\n"
      ]
    },
    {
      "cell_type": "markdown",
      "metadata": {
        "id": "Pxm9S36_1li4"
      },
      "source": [
        "### Exercise 2\n",
        "\n",
        "Write the function *train_linear_reg(X_train,y_train,lmbd)*.\n",
        "Implement the ridge regression model (slide 24). The function should output the learned weight vector $\\theta \\in \\mathbb{R}^D$ or $\\mathbb{R}^{D+1}$ (depending on whether you are adding *bias*)."
      ]
    },
    {
      "cell_type": "code",
      "execution_count": null,
      "metadata": {
        "id": "3LDp7ssz1li5"
      },
      "outputs": [],
      "source": [
        "def train_linear_reg(X, y, lmbd):\n",
        "    \n",
        "    \n",
        "    ##################\n",
        "    theta = np.dot(np.linalg.inv(np.dot(X.T, X) + (lmbd * np.eye(X.shape[1]))), np.dot(X.T, y))\n",
        "    ##################\n",
        "    return theta\n",
        "\n",
        "# To add a bias\n",
        "\n",
        "\n",
        "\n",
        "# Try to actually remember what's the deal with ridge regression.\n",
        "# So ridge regression is a combination of Squared loss + L2 regularization.\n",
        "# It's a convex optimization criterion, with only one global minimum.\n",
        "\n",
        "# Only practical for relatively small number of attributes.\n",
        "# Otherwise: use stochastic gradient method. \n",
        "# Why? Ridge regression has a heavy memory cost because of inverting matrixes. \n",
        "# SGD however uses small batches for trainig, so all good.\n",
        "\n"
      ]
    },
    {
      "cell_type": "markdown",
      "metadata": {
        "id": "VzAAV9et1li5"
      },
      "source": [
        "### Exercise 3\n",
        "\n",
        "Write the function *predict(X,theta)* which predicts housing values vector pred for a dataset X and a previously trained parameter vector $\\theta$."
      ]
    },
    {
      "cell_type": "code",
      "execution_count": null,
      "metadata": {
        "id": "1k7w4Iyq1li6"
      },
      "outputs": [],
      "source": [
        "def predict(X, theta):\n",
        "    ##################\n",
        "    y_pred = np.dot(X, theta)\n",
        "    ##################\n",
        "    return y_pred"
      ]
    },
    {
      "cell_type": "markdown",
      "metadata": {
        "id": "H83oY9Zn1li6"
      },
      "source": [
        "### Exercise 4\n",
        "\n",
        "Write the function *mean_abs_loss(y_true,y_pred)* which computes the mean of the absolute differences between our prediction vector $y\\_pred$ and the real housing values $y\\_true$."
      ]
    },
    {
      "cell_type": "code",
      "execution_count": null,
      "metadata": {
        "id": "hiNjDcM-1li7"
      },
      "outputs": [],
      "source": [
        "def mean_abs_loss(y_true,y_pred):\n",
        "    ##################\n",
        "    #INSERT CODE HERE#\n",
        "    ##################\n",
        "    return 0"
      ]
    },
    {
      "cell_type": "markdown",
      "metadata": {
        "id": "G9CXkha41li7"
      },
      "source": [
        "### Exercise 5\n",
        "\n",
        "Evaluate your solutions by running the following code. \n",
        "\n",
        "Moreover, answer the following questions: What is the most important feature in your model? Are there features that are not so important? What happens if you remove them? Are there outliers with a high absolute loss?"
      ]
    },
    {
      "cell_type": "code",
      "execution_count": null,
      "metadata": {
        "id": "v-hRUKyC1li8"
      },
      "outputs": [],
      "source": [
        "seed = 3\n",
        "lmbd=1\n",
        "split=0.7\n",
        "X_train,y_train,X_test,y_test=split_train_test(X,y,split,seed)\n",
        "theta=train_linear_reg(X_train,y_train,lmbd)\n",
        "y_pred=predict(X_test,theta)\n",
        "mae=mean_abs_loss(y_test,y_pred)\n",
        "print ('The mean absolute loss is {loss:0.3f}'.format(loss=mae*1000))"
      ]
    }
  ],
  "metadata": {
    "colab": {
      "name": "Lab07_LinearRegression.ipynb",
      "provenance": []
    },
    "kernelspec": {
      "display_name": ".venv",
      "language": "python",
      "name": "python3"
    },
    "language_info": {
      "codemirror_mode": {
        "name": "ipython",
        "version": 3
      },
      "file_extension": ".py",
      "mimetype": "text/x-python",
      "name": "python",
      "nbconvert_exporter": "python",
      "pygments_lexer": "ipython3",
      "version": "3.13.3"
    }
  },
  "nbformat": 4,
  "nbformat_minor": 0
}
